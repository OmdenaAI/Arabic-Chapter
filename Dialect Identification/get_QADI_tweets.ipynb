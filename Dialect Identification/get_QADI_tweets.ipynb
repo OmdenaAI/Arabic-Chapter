{
  "nbformat": 4,
  "nbformat_minor": 0,
  "metadata": {
    "colab": {
      "name": "get QADI tweets.ipynb",
      "provenance": [],
      "collapsed_sections": []
    },
    "kernelspec": {
      "name": "python3",
      "display_name": "Python 3"
    },
    "language_info": {
      "name": "python"
    }
  },
  "cells": [
    {
      "cell_type": "markdown",
      "metadata": {
        "id": "XshlWofoZad-"
      },
      "source": [
        "QCRI Arabic Dialect Identification (QADI)\n",
        "\n",
        "Country level Arabic dialect identification (DI) dataset. It provides a collection for benchmarking DI task.\n",
        "\n",
        "The dataset contains 540,590 tweets from 18 Arab countries.\n",
        "\n",
        "The dataset files contains ids for the all the tweets identified as from the designated country .[Data](https://github.com/qcri/QADI)\n",
        "\n",
        "Using twitter Api to get tweets text from tweets ids .\n"
      ]
    },
    {
      "cell_type": "code",
      "metadata": {
        "id": "3xxFW3gyZa3o"
      },
      "source": [
        "### install tweepy library \n",
        "!pip install  tweepy"
      ],
      "execution_count": null,
      "outputs": []
    },
    {
      "cell_type": "code",
      "metadata": {
        "id": "11MS-u38P34l"
      },
      "source": [
        "### import packages\n",
        "import os \n",
        "import pandas as pd \n",
        "import numpy as np \n",
        "import re\n",
        "import glob\n",
        "import nltk \n",
        "import string"
      ],
      "execution_count": 23,
      "outputs": []
    },
    {
      "cell_type": "code",
      "metadata": {
        "colab": {
          "base_uri": "https://localhost:8080/"
        },
        "id": "aWkPVLkkV-l6",
        "outputId": "f00291bd-8fd1-4646-deda-27096d2518e3"
      },
      "source": [
        "## mount drive to store data in drive\n",
        "from google.colab import drive\n",
        "drive.mount('/content/drive')"
      ],
      "execution_count": 5,
      "outputs": [
        {
          "output_type": "stream",
          "text": [
            "Mounted at /content/drive\n"
          ],
          "name": "stdout"
        }
      ]
    },
    {
      "cell_type": "code",
      "metadata": {
        "colab": {
          "base_uri": "https://localhost:8080/"
        },
        "id": "g8nuuajmy7O-",
        "outputId": "81aaaa9f-c183-47d7-fd2d-89dd13db1e2b"
      },
      "source": [
        "\n",
        "# Authenticate to Twitter\n",
        "consumer_key=\"XXX\"\n",
        "consumer_secret=\"XXX\"\n",
        "access_token=\"XXX\"\n",
        "access_token_secret=\"XXX\"\n",
        "\n",
        "auth = tweepy.OAuthHandler(consumer_key, consumer_secret)\n",
        "auth.set_access_token(access_token, access_token_secret)\n",
        "\n",
        "\n",
        "api = tweepy.API(auth, wait_on_rate_limit=True, wait_on_rate_limit_notify=True)\n",
        "\n",
        "try:\n",
        "    api.verify_credentials()\n",
        "    print(\"Authentication OK\")\n",
        "except:\n",
        "    print(\"Error during authentication\")"
      ],
      "execution_count": 6,
      "outputs": [
        {
          "output_type": "stream",
          "text": [
            "Authentication OK\n"
          ],
          "name": "stdout"
        }
      ]
    },
    {
      "cell_type": "code",
      "metadata": {
        "id": "qy5NM1dS-OUd"
      },
      "source": [
        "## get tweets text from tweets ids \n",
        "def lookup_tweets(tweet_IDs, api):\n",
        "    full_tweets = []\n",
        "    tweet_count = len(tweet_IDs)\n",
        "    try:\n",
        "        for i in range((tweet_count // 100) + 1):\n",
        "            # Catch the last group if it is less than 100 tweets\n",
        "            end_loc = min((i + 1) * 100, tweet_count)\n",
        "\n",
        "            full_tweets.extend(\n",
        "                api.statuses_lookup(id_=tweet_IDs[i * 100:end_loc])\n",
        "            )\n",
        "            print(len(full_tweets))\n",
        "        return full_tweets\n",
        "    except tweepy.TweepError as e:\n",
        "        print(e)\n",
        "        return None"
      ],
      "execution_count": 59,
      "outputs": []
    },
    {
      "cell_type": "code",
      "metadata": {
        "colab": {
          "base_uri": "https://localhost:8080/"
        },
        "id": "RiZ7Fu5O1yr4",
        "outputId": "4c13d911-d5c1-4e3e-c0bb-4bd816923bb7"
      },
      "source": [
        "## clone repo to get data \n",
        "!git clone https://github.com/qcri/QADI.git"
      ],
      "execution_count": 8,
      "outputs": [
        {
          "output_type": "stream",
          "text": [
            "Cloning into 'QADI'...\n",
            "remote: Enumerating objects: 48, done.\u001b[K\n",
            "remote: Counting objects: 100% (48/48), done.\u001b[K\n",
            "remote: Compressing objects: 100% (39/39), done.\u001b[K\n",
            "remote: Total 48 (delta 7), reused 44 (delta 6), pack-reused 0\u001b[K\n",
            "Unpacking objects: 100% (48/48), done.\n"
          ],
          "name": "stdout"
        }
      ]
    },
    {
      "cell_type": "code",
      "metadata": {
        "id": "e8IJBq2b7S6q"
      },
      "source": [
        "### get all txt files in dataset directory\n",
        "main_dir='/content/QADI/dataset'\n",
        "files=os.listdir(main_dir)\n"
      ],
      "execution_count": 41,
      "outputs": []
    },
    {
      "cell_type": "code",
      "metadata": {
        "id": "HsHRre4o7c4B"
      },
      "source": [
        "### loop over each file to get tweets\n",
        "for file in files:\n",
        "  tweets_ids=[]\n",
        "  countries=[]\n",
        "  results_text=[]\n",
        "  print(file)\n",
        "  ids=open(os.path.join(main_dir,file)).readlines()\n",
        "  ids=[i.strip() for i in ids]\n",
        "  country=file.split('_')[-1].replace('.txt','')\n",
        "  print(len(ids))\n",
        "  results=lookup_tweets(ids, api)\n",
        "  if results!=None:\n",
        "    for result in results:\n",
        "      try:\n",
        "        results_text.append(result.text)\n",
        "        tweets_ids.append(result.id)\n",
        "      except Exception as e:\n",
        "        print(exit)  \n",
        "  print(len(results_text))\n",
        "  countries=[country] * len(results_text)\n",
        "  df=pd.DataFrame({'ids':tweets_ids,\n",
        "                   'tweet':results_text,\n",
        "                   'country':countries})\n",
        "  file_name=file.replace('txt','csv')\n",
        "  df.to_csv('/content/drive/MyDrive/Data/'+file_name,index=False,encoding='utf-8')\n"
      ],
      "execution_count": null,
      "outputs": []
    },
    {
      "cell_type": "markdown",
      "metadata": {
        "id": "Bon-gO29Qq0N"
      },
      "source": [
        "## Concat  all csv file in one dataframe "
      ]
    },
    {
      "cell_type": "code",
      "metadata": {
        "id": "2Ac0f_eQYzBF"
      },
      "source": [
        "## get all csv files \n",
        "paths=['/content/drive/MyDrive/Data',]\n",
        "\n",
        "all_files=[]\n",
        "for path in  paths:\n",
        "  all_files.extend(glob.glob(path + \"/*.csv\"))"
      ],
      "execution_count": 8,
      "outputs": []
    },
    {
      "cell_type": "code",
      "metadata": {
        "colab": {
          "base_uri": "https://localhost:8080/"
        },
        "id": "WwpsDQuJRBcr",
        "outputId": "d75663b2-3b32-48e3-87be-c3ae81116ea5"
      },
      "source": [
        "len(all_files)"
      ],
      "execution_count": 14,
      "outputs": [
        {
          "output_type": "execute_result",
          "data": {
            "text/plain": [
              "18"
            ]
          },
          "metadata": {
            "tags": []
          },
          "execution_count": 14
        }
      ]
    },
    {
      "cell_type": "code",
      "metadata": {
        "id": "qfFexHbnRCnU"
      },
      "source": [
        "## make dataframe from all csv files\n",
        "li=[]\n",
        "for filename in all_files:\n",
        "    df = pd.read_csv(filename, index_col=None, header=0,lineterminator='\\n')\n",
        "    li.append(df)\n",
        "\n",
        "df_total = pd.concat(li, axis=0, ignore_index=True)"
      ],
      "execution_count": 15,
      "outputs": []
    },
    {
      "cell_type": "code",
      "metadata": {
        "colab": {
          "base_uri": "https://localhost:8080/",
          "height": 204
        },
        "id": "Xnc68JHHRfLE",
        "outputId": "4c91a72a-4b96-4a80-e3cc-1ffb9e9b2697"
      },
      "source": [
        "df_total.head()"
      ],
      "execution_count": 16,
      "outputs": [
        {
          "output_type": "execute_result",
          "data": {
            "text/html": [
              "<div>\n",
              "<style scoped>\n",
              "    .dataframe tbody tr th:only-of-type {\n",
              "        vertical-align: middle;\n",
              "    }\n",
              "\n",
              "    .dataframe tbody tr th {\n",
              "        vertical-align: top;\n",
              "    }\n",
              "\n",
              "    .dataframe thead th {\n",
              "        text-align: right;\n",
              "    }\n",
              "</style>\n",
              "<table border=\"1\" class=\"dataframe\">\n",
              "  <thead>\n",
              "    <tr style=\"text-align: right;\">\n",
              "      <th></th>\n",
              "      <th>ids</th>\n",
              "      <th>tweet</th>\n",
              "      <th>country</th>\n",
              "    </tr>\n",
              "  </thead>\n",
              "  <tbody>\n",
              "    <tr>\n",
              "      <th>0</th>\n",
              "      <td>1161776961259286529</td>\n",
              "      <td>البلد العربي اللي عنده لاعب خد دوري الابطال وا...</td>\n",
              "      <td>EG</td>\n",
              "    </tr>\n",
              "    <tr>\n",
              "      <th>1</th>\n",
              "      <td>1163476458402197504</td>\n",
              "      <td>@NaguibSawiris \\nبس مهندس ايه معرفش  😂 https:/...</td>\n",
              "      <td>EG</td>\n",
              "    </tr>\n",
              "    <tr>\n",
              "      <th>2</th>\n",
              "      <td>1163957440318181377</td>\n",
              "      <td>@AmrOfficial3 اتصور معاك \\nحياة عيالك يا شيخ 😂</td>\n",
              "      <td>EG</td>\n",
              "    </tr>\n",
              "    <tr>\n",
              "      <th>3</th>\n",
              "      <td>1163757982129315841</td>\n",
              "      <td>الناس اللي بتكتب الكلام بالتشكيل والتنوين دول ...</td>\n",
              "      <td>EG</td>\n",
              "    </tr>\n",
              "    <tr>\n",
              "      <th>4</th>\n",
              "      <td>1163479461515448320</td>\n",
              "      <td>@MASHALLAH101 @Mr_Tamer_L جايزة اسخف كومنت شوف...</td>\n",
              "      <td>EG</td>\n",
              "    </tr>\n",
              "  </tbody>\n",
              "</table>\n",
              "</div>"
            ],
            "text/plain": [
              "                   ids  ... country\n",
              "0  1161776961259286529  ...      EG\n",
              "1  1163476458402197504  ...      EG\n",
              "2  1163957440318181377  ...      EG\n",
              "3  1163757982129315841  ...      EG\n",
              "4  1163479461515448320  ...      EG\n",
              "\n",
              "[5 rows x 3 columns]"
            ]
          },
          "metadata": {
            "tags": []
          },
          "execution_count": 16
        }
      ]
    },
    {
      "cell_type": "code",
      "metadata": {
        "colab": {
          "base_uri": "https://localhost:8080/"
        },
        "id": "0F6B1WhrVPgM",
        "outputId": "4c9ed166-7709-4503-9129-f9549375d0c8"
      },
      "source": [
        "df_total.shape"
      ],
      "execution_count": 17,
      "outputs": [
        {
          "output_type": "execute_result",
          "data": {
            "text/plain": [
              "(467945, 3)"
            ]
          },
          "metadata": {
            "tags": []
          },
          "execution_count": 17
        }
      ]
    },
    {
      "cell_type": "code",
      "metadata": {
        "colab": {
          "base_uri": "https://localhost:8080/"
        },
        "id": "w6gxrNrGCG8r",
        "outputId": "84e2bfb4-5c28-4ba7-fb46-cda17beced40"
      },
      "source": [
        "## get arabic stop words from nltk library \n",
        "nltk.download('stopwords')\n",
        "arb_stopwords = set(nltk.corpus.stopwords.words(\"arabic\"))"
      ],
      "execution_count": 20,
      "outputs": [
        {
          "output_type": "stream",
          "text": [
            "[nltk_data] Downloading package stopwords to /root/nltk_data...\n",
            "[nltk_data]   Package stopwords is already up-to-date!\n"
          ],
          "name": "stdout"
        }
      ]
    },
    {
      "cell_type": "code",
      "metadata": {
        "id": "R80z_TvOGdoe"
      },
      "source": [
        "arabic_punctuations = '''`÷×؛<>_()*&^%][ـ،/:\"؟.,'{}~¦+|!”…“–ـ«»'''\n",
        "english_punctuations = string.punctuation\n",
        "punctuations_list = arabic_punctuations + english_punctuations\n",
        "\n",
        "## remove_punctuations\n",
        "def remove_punctuations(text):\n",
        "    return ''.join([char if char  not in punctuations_list else ' ' for char  in text])\n",
        "\n",
        "## remove_numbers\n",
        "def replace_numbers(text):\n",
        "  numbers=['٩', '٨', '٧', '٦', '٥', '٤', '٣', '٢', '١','٠']\n",
        "  return ''.join([char for char in text if char not in numbers ])\n",
        "\n"
      ],
      "execution_count": 21,
      "outputs": []
    },
    {
      "cell_type": "code",
      "metadata": {
        "id": "K2sZPBofEnqy"
      },
      "source": [
        "### clean tweets ,remove hashtages ,urls ,emoji ,tags \n",
        "emoji_pattern = re.compile(\"[\"\n",
        "        u\"\\U0001F600-\\U0001F64F\"  # emoticons\n",
        "        u\"\\U0001F300-\\U0001F5FF\"  # symbols & pictographs\n",
        "        u\"\\U0001F680-\\U0001F6FF\"  # transport & map symbols\n",
        "        u\"\\U0001F1E0-\\U0001F1FF\"  # flags (iOS)\n",
        "        u\"\\U00002500-\\U00002BEF\"  # chinese char\n",
        "        u\"\\U00002702-\\U000027B0\"\n",
        "        u\"\\U00002702-\\U000027B0\"\n",
        "        u\"\\U000024C2-\\U0001F251\"\n",
        "        u\"\\U0001f926-\\U0001f937\"\n",
        "        u\"\\U00010000-\\U0010ffff\"\n",
        "        u\"\\u2640-\\u2642\" \n",
        "        u\"\\u2600-\\u2B55\"\n",
        "        u\"\\u200d\"\n",
        "        u\"\\u23cf\"\n",
        "        u\"\\u23e9\"\n",
        "        u\"\\u231a\"\n",
        "        u\"\\ufe0f\"  # dingbats\n",
        "        u\"\\u3030\"\n",
        "                      \"]+\", re.UNICODE)\n",
        "\n",
        "def clean(text):\n",
        "    text=re.sub(r'[a-zA-Z]*',\"\",text)\n",
        "    text = re.sub(r'[0-9]*', '', text)\n",
        "    text=emoji_pattern.sub(' ', text)\n",
        "    text=replace_numbers(text)\n",
        "    text = re.sub(r\"(?:\\@|http?\\://|https?\\://|www)\\S+\", \"\", text)\n",
        "    text=text.replace('#',' ')\n",
        "    text=text.replace('_',' ')\n",
        "    text=' '.join([word for word in text.split() if word not in arb_stopwords])\n",
        "    text=remove_punctuations(text)\n",
        "    text=re.sub(r'[^ا-ي]+',' ',text)\n",
        "    text=' '.join( [w for w in text.split() if len(w)>2] )\n",
        "    text=text.replace('_',' ')\n",
        "    text=re.sub('\\s+',' ',text)\n",
        "\n",
        "    return text"
      ],
      "execution_count": 24,
      "outputs": []
    },
    {
      "cell_type": "code",
      "metadata": {
        "id": "Q0q96XfaL9_3"
      },
      "source": [
        "## apply clean function to dataframe\n",
        "df_total['tweet_clean']=df_total['tweet'].apply(clean)"
      ],
      "execution_count": 25,
      "outputs": []
    },
    {
      "cell_type": "code",
      "metadata": {
        "colab": {
          "base_uri": "https://localhost:8080/",
          "height": 669
        },
        "id": "nuibPPTKWCaO",
        "outputId": "a1bfa6ad-5192-4376-d8d3-a36563b4300e"
      },
      "source": [
        "df_total.head(20)"
      ],
      "execution_count": 26,
      "outputs": [
        {
          "output_type": "execute_result",
          "data": {
            "text/html": [
              "<div>\n",
              "<style scoped>\n",
              "    .dataframe tbody tr th:only-of-type {\n",
              "        vertical-align: middle;\n",
              "    }\n",
              "\n",
              "    .dataframe tbody tr th {\n",
              "        vertical-align: top;\n",
              "    }\n",
              "\n",
              "    .dataframe thead th {\n",
              "        text-align: right;\n",
              "    }\n",
              "</style>\n",
              "<table border=\"1\" class=\"dataframe\">\n",
              "  <thead>\n",
              "    <tr style=\"text-align: right;\">\n",
              "      <th></th>\n",
              "      <th>ids</th>\n",
              "      <th>tweet</th>\n",
              "      <th>country</th>\n",
              "      <th>tweet_clean</th>\n",
              "    </tr>\n",
              "  </thead>\n",
              "  <tbody>\n",
              "    <tr>\n",
              "      <th>0</th>\n",
              "      <td>1161776961259286529</td>\n",
              "      <td>البلد العربي اللي عنده لاعب خد دوري الابطال وا...</td>\n",
              "      <td>EG</td>\n",
              "      <td>البلد العربي اللي عنده لاعب دوري الابطال والسو...</td>\n",
              "    </tr>\n",
              "    <tr>\n",
              "      <th>1</th>\n",
              "      <td>1163476458402197504</td>\n",
              "      <td>@NaguibSawiris \\nبس مهندس ايه معرفش  😂 https:/...</td>\n",
              "      <td>EG</td>\n",
              "      <td>مهندس ايه معرفش</td>\n",
              "    </tr>\n",
              "    <tr>\n",
              "      <th>2</th>\n",
              "      <td>1163957440318181377</td>\n",
              "      <td>@AmrOfficial3 اتصور معاك \\nحياة عيالك يا شيخ 😂</td>\n",
              "      <td>EG</td>\n",
              "      <td>اتصور معاك حياة عيالك شيخ</td>\n",
              "    </tr>\n",
              "    <tr>\n",
              "      <th>3</th>\n",
              "      <td>1163757982129315841</td>\n",
              "      <td>الناس اللي بتكتب الكلام بالتشكيل والتنوين دول ...</td>\n",
              "      <td>EG</td>\n",
              "      <td>الناس اللي بتكتب الكلام بالتشكيل والتنوين دول ...</td>\n",
              "    </tr>\n",
              "    <tr>\n",
              "      <th>4</th>\n",
              "      <td>1163479461515448320</td>\n",
              "      <td>@MASHALLAH101 @Mr_Tamer_L جايزة اسخف كومنت شوف...</td>\n",
              "      <td>EG</td>\n",
              "      <td>جايزة اسخف كومنت شوفته التاريخ</td>\n",
              "    </tr>\n",
              "    <tr>\n",
              "      <th>5</th>\n",
              "      <td>1163768863110000641</td>\n",
              "      <td>@MahmoudRebab @A__mola @Mohamadalzalek2 @Sara_...</td>\n",
              "      <td>EG</td>\n",
              "      <td></td>\n",
              "    </tr>\n",
              "    <tr>\n",
              "      <th>6</th>\n",
              "      <td>1161633304539516933</td>\n",
              "      <td>@ahelmy يا جماعة دي وجهات نظر عادي، وبعدين واح...</td>\n",
              "      <td>EG</td>\n",
              "      <td>جماعة وجهات نظر عادي وبعدين واحد بيشجع الزمالك...</td>\n",
              "    </tr>\n",
              "    <tr>\n",
              "      <th>7</th>\n",
              "      <td>1162875848279711745</td>\n",
              "      <td>الزملكاوية اللي هاجموا الناس اللي نشرت لقطة رج...</td>\n",
              "      <td>EG</td>\n",
              "      <td>الزملكاوية اللي هاجموا الناس اللي نشرت لقطة رج...</td>\n",
              "    </tr>\n",
              "    <tr>\n",
              "      <th>8</th>\n",
              "      <td>1162378193896202240</td>\n",
              "      <td>@nabilelhalfawy لما بينداس ع المصري بالجزم ف ا...</td>\n",
              "      <td>EG</td>\n",
              "      <td>بينداس المصري بالجزم بلد عربي محدش بيجيبله حقه...</td>\n",
              "    </tr>\n",
              "    <tr>\n",
              "      <th>9</th>\n",
              "      <td>1163125682437836801</td>\n",
              "      <td>حوشوها عني هتموتني بنت الكلب 😂 https://t.co/NN...</td>\n",
              "      <td>EG</td>\n",
              "      <td>حوشوها عني هتموتني بنت الكلب</td>\n",
              "    </tr>\n",
              "    <tr>\n",
              "      <th>10</th>\n",
              "      <td>1164913682217918466</td>\n",
              "      <td>@NaguibSawiris بالعربي احلى \\nوالقرش ف عين امه...</td>\n",
              "      <td>EG</td>\n",
              "      <td>بالعربي احلى والقرش عين امه غزال</td>\n",
              "    </tr>\n",
              "    <tr>\n",
              "      <th>11</th>\n",
              "      <td>1163819219663769602</td>\n",
              "      <td>زي ما الفرح بيحليك والحب بيجملك، برضو الحزن وا...</td>\n",
              "      <td>EG</td>\n",
              "      <td>الفرح بيحليك والحب بيجملك برضو الحزن والزعل بي...</td>\n",
              "    </tr>\n",
              "    <tr>\n",
              "      <th>12</th>\n",
              "      <td>1165029974606340097</td>\n",
              "      <td>احا \\nا: انا \\nح: حقا \\nا: اعترض\\n\\n#علماء_مصر...</td>\n",
              "      <td>EG</td>\n",
              "      <td>احا انا حقا اعترض علما مصر غاضبون وادينا بنقول...</td>\n",
              "    </tr>\n",
              "    <tr>\n",
              "      <th>13</th>\n",
              "      <td>1163230291449827330</td>\n",
              "      <td>@ibrahimabdgawad @NaguibSawiris هو كل حاجة ع ا...</td>\n",
              "      <td>EG</td>\n",
              "      <td>حاجة الراجل تلموا انتوا ابراهيم وبناقص اجر يوم</td>\n",
              "    </tr>\n",
              "    <tr>\n",
              "      <th>14</th>\n",
              "      <td>1163126187427794945</td>\n",
              "      <td>@AmrOfficial3 يا نجم ده مش انستجرام، انت فاهم ...</td>\n",
              "      <td>EG</td>\n",
              "      <td>نجم انستجرام انت فاهم تويتر غلط ابسطهالك موقع ...</td>\n",
              "    </tr>\n",
              "    <tr>\n",
              "      <th>15</th>\n",
              "      <td>1163768656108707843</td>\n",
              "      <td>@MahmoudRebab @NoNY845 @__ll5N @Noraldin_Elkad...</td>\n",
              "      <td>EG</td>\n",
              "      <td></td>\n",
              "    </tr>\n",
              "    <tr>\n",
              "      <th>16</th>\n",
              "      <td>1161745548694736909</td>\n",
              "      <td>@khaledbauomy سلامالات يا كابتن مصر 🌺🌺🌺</td>\n",
              "      <td>EG</td>\n",
              "      <td>سلامالات كابتن مصر</td>\n",
              "    </tr>\n",
              "    <tr>\n",
              "      <th>17</th>\n",
              "      <td>1161758171192528897</td>\n",
              "      <td>@mbahareth @tareqkarrar دولة 2000 متر ؟!\\nحضرت...</td>\n",
              "      <td>EG</td>\n",
              "      <td>دولة متر حضرتك احنا عندنا عمدة القرية زمامه اق...</td>\n",
              "    </tr>\n",
              "    <tr>\n",
              "      <th>18</th>\n",
              "      <td>1165030350952763399</td>\n",
              "      <td>@nonasafsaf\\nوصلي حضرتك التويتة دي للجروب بتاع...</td>\n",
              "      <td>EG</td>\n",
              "      <td>وصلي حضرتك التويتة للجروب بتاعكم اهدا</td>\n",
              "    </tr>\n",
              "    <tr>\n",
              "      <th>19</th>\n",
              "      <td>1161421590208417792</td>\n",
              "      <td>@ahelmy مفيش واحدة من ام خمسين ليا يا نجم، اوع...</td>\n",
              "      <td>EG</td>\n",
              "      <td>مفيش واحدة خمسين ليا نجم اوعدك هصرفها لمدة شهر...</td>\n",
              "    </tr>\n",
              "  </tbody>\n",
              "</table>\n",
              "</div>"
            ],
            "text/plain": [
              "                    ids  ...                                        tweet_clean\n",
              "0   1161776961259286529  ...  البلد العربي اللي عنده لاعب دوري الابطال والسو...\n",
              "1   1163476458402197504  ...                                    مهندس ايه معرفش\n",
              "2   1163957440318181377  ...                          اتصور معاك حياة عيالك شيخ\n",
              "3   1163757982129315841  ...  الناس اللي بتكتب الكلام بالتشكيل والتنوين دول ...\n",
              "4   1163479461515448320  ...                     جايزة اسخف كومنت شوفته التاريخ\n",
              "5   1163768863110000641  ...                                                   \n",
              "6   1161633304539516933  ...  جماعة وجهات نظر عادي وبعدين واحد بيشجع الزمالك...\n",
              "7   1162875848279711745  ...  الزملكاوية اللي هاجموا الناس اللي نشرت لقطة رج...\n",
              "8   1162378193896202240  ...  بينداس المصري بالجزم بلد عربي محدش بيجيبله حقه...\n",
              "9   1163125682437836801  ...                       حوشوها عني هتموتني بنت الكلب\n",
              "10  1164913682217918466  ...                   بالعربي احلى والقرش عين امه غزال\n",
              "11  1163819219663769602  ...  الفرح بيحليك والحب بيجملك برضو الحزن والزعل بي...\n",
              "12  1165029974606340097  ...  احا انا حقا اعترض علما مصر غاضبون وادينا بنقول...\n",
              "13  1163230291449827330  ...     حاجة الراجل تلموا انتوا ابراهيم وبناقص اجر يوم\n",
              "14  1163126187427794945  ...  نجم انستجرام انت فاهم تويتر غلط ابسطهالك موقع ...\n",
              "15  1163768656108707843  ...                                                   \n",
              "16  1161745548694736909  ...                                 سلامالات كابتن مصر\n",
              "17  1161758171192528897  ...  دولة متر حضرتك احنا عندنا عمدة القرية زمامه اق...\n",
              "18  1165030350952763399  ...              وصلي حضرتك التويتة للجروب بتاعكم اهدا\n",
              "19  1161421590208417792  ...  مفيش واحدة خمسين ليا نجم اوعدك هصرفها لمدة شهر...\n",
              "\n",
              "[20 rows x 4 columns]"
            ]
          },
          "metadata": {
            "tags": []
          },
          "execution_count": 26
        }
      ]
    },
    {
      "cell_type": "code",
      "metadata": {
        "id": "mV0dcqILWliT"
      },
      "source": [
        "## drop ids ,tweet colunms\n",
        "df_total.drop(['ids','tweet'],axis=1,inplace=True)"
      ],
      "execution_count": 27,
      "outputs": []
    },
    {
      "cell_type": "code",
      "metadata": {
        "colab": {
          "base_uri": "https://localhost:8080/",
          "height": 204
        },
        "id": "sP7FASkhWxje",
        "outputId": "b5559628-baa5-4269-9abf-b6ae06328c72"
      },
      "source": [
        "df_total.head()"
      ],
      "execution_count": 28,
      "outputs": [
        {
          "output_type": "execute_result",
          "data": {
            "text/html": [
              "<div>\n",
              "<style scoped>\n",
              "    .dataframe tbody tr th:only-of-type {\n",
              "        vertical-align: middle;\n",
              "    }\n",
              "\n",
              "    .dataframe tbody tr th {\n",
              "        vertical-align: top;\n",
              "    }\n",
              "\n",
              "    .dataframe thead th {\n",
              "        text-align: right;\n",
              "    }\n",
              "</style>\n",
              "<table border=\"1\" class=\"dataframe\">\n",
              "  <thead>\n",
              "    <tr style=\"text-align: right;\">\n",
              "      <th></th>\n",
              "      <th>country</th>\n",
              "      <th>tweet_clean</th>\n",
              "    </tr>\n",
              "  </thead>\n",
              "  <tbody>\n",
              "    <tr>\n",
              "      <th>0</th>\n",
              "      <td>EG</td>\n",
              "      <td>البلد العربي اللي عنده لاعب دوري الابطال والسو...</td>\n",
              "    </tr>\n",
              "    <tr>\n",
              "      <th>1</th>\n",
              "      <td>EG</td>\n",
              "      <td>مهندس ايه معرفش</td>\n",
              "    </tr>\n",
              "    <tr>\n",
              "      <th>2</th>\n",
              "      <td>EG</td>\n",
              "      <td>اتصور معاك حياة عيالك شيخ</td>\n",
              "    </tr>\n",
              "    <tr>\n",
              "      <th>3</th>\n",
              "      <td>EG</td>\n",
              "      <td>الناس اللي بتكتب الكلام بالتشكيل والتنوين دول ...</td>\n",
              "    </tr>\n",
              "    <tr>\n",
              "      <th>4</th>\n",
              "      <td>EG</td>\n",
              "      <td>جايزة اسخف كومنت شوفته التاريخ</td>\n",
              "    </tr>\n",
              "  </tbody>\n",
              "</table>\n",
              "</div>"
            ],
            "text/plain": [
              "  country                                        tweet_clean\n",
              "0      EG  البلد العربي اللي عنده لاعب دوري الابطال والسو...\n",
              "1      EG                                    مهندس ايه معرفش\n",
              "2      EG                          اتصور معاك حياة عيالك شيخ\n",
              "3      EG  الناس اللي بتكتب الكلام بالتشكيل والتنوين دول ...\n",
              "4      EG                     جايزة اسخف كومنت شوفته التاريخ"
            ]
          },
          "metadata": {
            "tags": []
          },
          "execution_count": 28
        }
      ]
    },
    {
      "cell_type": "code",
      "metadata": {
        "colab": {
          "base_uri": "https://localhost:8080/"
        },
        "id": "jwXAohJ-W3r_",
        "outputId": "33ece3a7-44ae-44d0-8a15-117ecc6502e4"
      },
      "source": [
        "df_total.shape"
      ],
      "execution_count": 29,
      "outputs": [
        {
          "output_type": "execute_result",
          "data": {
            "text/plain": [
              "(467945, 2)"
            ]
          },
          "metadata": {
            "tags": []
          },
          "execution_count": 29
        }
      ]
    },
    {
      "cell_type": "code",
      "metadata": {
        "colab": {
          "base_uri": "https://localhost:8080/"
        },
        "id": "jT_C4V_PW8VX",
        "outputId": "211b71bd-347c-4c7c-95ce-9d67c8629a9c"
      },
      "source": [
        "df_total.country.value_counts()"
      ],
      "execution_count": 30,
      "outputs": [
        {
          "output_type": "execute_result",
          "data": {
            "text/plain": [
              "EG    58223\n",
              "PL    43990\n",
              "KW    42936\n",
              "LY    35316\n",
              "QA    32706\n",
              "LB    30850\n",
              "JO    28585\n",
              "SA    27309\n",
              "AE    27261\n",
              "BH    26054\n",
              "OM    20602\n",
              "SY    16459\n",
              "DZ    16111\n",
              "IQ    15305\n",
              "SD    14786\n",
              "MA    10944\n",
              "TN    10391\n",
              "YE    10117\n",
              "Name: country, dtype: int64"
            ]
          },
          "metadata": {
            "tags": []
          },
          "execution_count": 30
        }
      ]
    },
    {
      "cell_type": "code",
      "metadata": {
        "colab": {
          "base_uri": "https://localhost:8080/"
        },
        "id": "eJ9uaCwrX25l",
        "outputId": "abaeebb4-f90f-4382-81d8-d59d6f8a4718"
      },
      "source": [
        "df_total.isnull().sum()"
      ],
      "execution_count": 35,
      "outputs": [
        {
          "output_type": "execute_result",
          "data": {
            "text/plain": [
              "country           0\n",
              "tweet_clean    2330\n",
              "dtype: int64"
            ]
          },
          "metadata": {
            "tags": []
          },
          "execution_count": 35
        }
      ]
    },
    {
      "cell_type": "code",
      "metadata": {
        "id": "qnsWXjIwYMdk"
      },
      "source": [
        "\n",
        "df_total['tweet_clean']=df_total['tweet_clean'].apply(lambda x :  x if len(x.split())>0  else None)"
      ],
      "execution_count": 33,
      "outputs": []
    },
    {
      "cell_type": "code",
      "metadata": {
        "colab": {
          "base_uri": "https://localhost:8080/"
        },
        "id": "5qc-WDr1Yvs4",
        "outputId": "273c93c5-9efe-4a0a-e6f0-4d59e4d3d446"
      },
      "source": [
        "## drop none values\n",
        "df_total.dropna(inplace=True)\n",
        "df_total.isnull().sum()"
      ],
      "execution_count": 36,
      "outputs": [
        {
          "output_type": "execute_result",
          "data": {
            "text/plain": [
              "country        0\n",
              "tweet_clean    0\n",
              "dtype: int64"
            ]
          },
          "metadata": {
            "tags": []
          },
          "execution_count": 36
        }
      ]
    },
    {
      "cell_type": "code",
      "metadata": {
        "colab": {
          "base_uri": "https://localhost:8080/"
        },
        "id": "rwO2ZVhgY2nt",
        "outputId": "fbec3bfe-7fc5-4fe8-b3fb-284e2e690707"
      },
      "source": [
        "df_total.shape"
      ],
      "execution_count": 37,
      "outputs": [
        {
          "output_type": "execute_result",
          "data": {
            "text/plain": [
              "(465615, 2)"
            ]
          },
          "metadata": {
            "tags": []
          },
          "execution_count": 37
        }
      ]
    },
    {
      "cell_type": "code",
      "metadata": {
        "id": "xO2tVqSmWOpP"
      },
      "source": [
        "### save final data to drive\n",
        "df_total.to_csv('/content/drive/MyDrive/Data/QADI_tweets.csv',index=False,encoding='utf-8')"
      ],
      "execution_count": 38,
      "outputs": []
    },
    {
      "cell_type": "code",
      "metadata": {
        "id": "AqvTDjZSXKw6"
      },
      "source": [
        ""
      ],
      "execution_count": null,
      "outputs": []
    }
  ]
}